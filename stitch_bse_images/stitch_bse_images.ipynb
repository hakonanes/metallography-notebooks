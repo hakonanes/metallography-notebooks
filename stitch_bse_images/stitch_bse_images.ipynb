{
 "cells": [
  {
   "cell_type": "markdown",
   "metadata": {},
   "source": [
    "# Stitch backscatter electron (BSE) images\n",
    "\n",
    "Håkon Wiik Ånes\n",
    "\n",
    "2019-12-18\n",
    "\n",
    "Based on:\n",
    "* https://scikit-image.org/docs/stable/auto_examples/transform/plot_register_translation.html#sphx-glr-auto-examples-transform-plot-register-translation-py\n",
    "* https://github.com/scikit-image/skimage-tutorials/blob/master/lectures/adv3_panorama-stitching.ipynb"
   ]
  },
  {
   "cell_type": "code",
   "execution_count": 12,
   "metadata": {},
   "outputs": [],
   "source": [
    "%matplotlib qt5\n",
    "\n",
    "import os\n",
    "\n",
    "import matplotlib.pyplot as plt\n",
    "import numpy as np\n",
    "import scipy.ndimage as scn\n",
    "import skimage.exposure as ske\n",
    "import skimage.color as skc\n",
    "import skimage.feature as skf\n",
    "import skimage.measure as skm\n",
    "import skimage.transform as skt\n",
    "\n",
    "datadir = '/home/hakon/phd/data/p/prover/0s/191217_ebsd/se_bse/scan'"
   ]
  },
  {
   "cell_type": "markdown",
   "metadata": {},
   "source": [
    "## Parameters"
   ]
  },
  {
   "cell_type": "code",
   "execution_count": 93,
   "metadata": {},
   "outputs": [],
   "source": [
    "height_big, width_big = (1536, 2048)\n",
    "height_small, width_small = (768, 1024)\n",
    "\n",
    "scale = (1/93.8) * 1e3  # nm/px, for 5000x magnification\n",
    "banner_height = {str(height_small): 77, str(height_big): 155}"
   ]
  },
  {
   "cell_type": "markdown",
   "metadata": {},
   "source": [
    "## Load images"
   ]
  },
  {
   "cell_type": "code",
   "execution_count": 95,
   "metadata": {},
   "outputs": [],
   "source": [
    "imgs = []\n",
    "\n",
    "img_size = (height_big - banner_height[str(height_big)], width_big)\n",
    "\n",
    "for i in range(26):\n",
    "    if i == 1:\n",
    "        continue\n",
    "\n",
    "    # Read pattern\n",
    "    fname = '5000x' + str(i) + '.tif'\n",
    "    img = plt.imread(os.path.join(datadir, fname))\n",
    "    dtype_in = img.dtype.type\n",
    "    \n",
    "    # Turn into grey image\n",
    "    img_rgb = skc.rgba2rgb(img)\n",
    "    img_grey = skc.rgb2grey(img_rgb)\n",
    "    \n",
    "    # Crop away bottom banner\n",
    "    img_height = img_grey.shape[0]\n",
    "    img_banner_height = banner_height[str(img_height)]\n",
    "    img_cropped = img_grey[:-img_banner_height, :]\n",
    "    \n",
    "    # Upscale images acquired with lower scan resolution\n",
    "    if img_height != max_img_height:\n",
    "        img_rescaled = skt.resize(\n",
    "            img_cropped, output_shape=img_size, anti_aliasing=True)\n",
    "    else:\n",
    "        img_rescaled = img_cropped\n",
    "\n",
    "    # Rescale intensity back to uint8\n",
    "#    img_rescaled = ske.rescale_intensity(img_rescaled, out_range=dtype_in)\n",
    "#    img_rescaled = img_rescaled.astype(dtype_in)\n",
    "    \n",
    "    # Append to list\n",
    "    imgs.append(img_rescaled)"
   ]
  },
  {
   "cell_type": "markdown",
   "metadata": {},
   "source": [
    "## Find image shifts"
   ]
  },
  {
   "cell_type": "code",
   "execution_count": 368,
   "metadata": {},
   "outputs": [
    {
     "name": "stdout",
     "output_type": "stream",
     "text": [
      "[  47.29 -217.16]\n",
      "0.09626753743024664\n"
     ]
    }
   ],
   "source": [
    "#img1, img2 = imgs[:2]\n",
    "\n",
    "img1 = imgs[0]\n",
    "img2 = imgs[1]\n",
    "\n",
    "#img1 = imgs[-4]\n",
    "#img2 = imgs[0]\n",
    "\n",
    "# Get overlapping subimages\n",
    "relationship = 'left-right'\n",
    "img_part_size = 600  # Either height or width, depending on relationship\n",
    "if relationship == 'left-right':\n",
    "    img1_part = img1[:, -img_part_size:]\n",
    "    img2_part = img2[:, :img_part_size]\n",
    "\n",
    "shift, error, diffphase = skf.register_translation(\n",
    "    src_image=img2_part, target_image=img1_part, upsample_factor=100)\n",
    "\n",
    "img1_part_shifted = scn.fourier_shift(np.fft.fftn(img1_part), shift)\n",
    "img1_part_shifted = np.fft.ifftn(img1_part_shifted)\n",
    "\n",
    "fig = plt.figure(figsize=(8, 3))\n",
    "ax1 = plt.subplot(1, 4, 1)\n",
    "ax2 = plt.subplot(1, 4, 2, sharex=ax1, sharey=ax1)\n",
    "ax3 = plt.subplot(1, 4, 3, sharex=ax1, sharey=ax1)\n",
    "ax4 = plt.subplot(1, 4, 4)\n",
    "\n",
    "ax1.imshow(img1_part, cmap='gray')\n",
    "ax1.set_axis_off()\n",
    "\n",
    "ax2.imshow(img2_part, cmap='gray')\n",
    "ax2.set_axis_off()\n",
    "\n",
    "ax3.imshow(img1_part_shifted.real, cmap='gray')\n",
    "ax3.set_axis_off()\n",
    "\n",
    "image_product = np.fft.fft2(img2_part) * np.fft.fft2(img1_part_shifted).conj()\n",
    "cc_image = np.fft.fftshift(np.fft.ifft2(image_product))\n",
    "ax4.imshow(cc_image.real)\n",
    "ax4.set_axis_off()\n",
    "\n",
    "print(shift)\n",
    "print(error)"
   ]
  },
  {
   "cell_type": "code",
   "execution_count": 394,
   "metadata": {},
   "outputs": [
    {
     "name": "stdout",
     "output_type": "stream",
     "text": [
      "[  105.39 -1449.03] [ -47.29 1665.16]\n"
     ]
    }
   ],
   "source": [
    "img0 = imgs[-4]\n",
    "img1 = imgs[0]\n",
    "img2 = imgs[1]\n",
    "\n",
    "overlap = 600\n",
    "\n",
    "img0_part = img0[:, -overlap:]\n",
    "img1_part1 = img1[:, :overlap]\n",
    "img1_part2 = img1[:, -overlap:]\n",
    "img2_part = img2[:, :overlap]\n",
    "\n",
    "shift01, error01, phasediff01 = skf.register_translation(\n",
    "    src_image=img1_part1, target_image=img0_part, upsample_factor=100)\n",
    "shift01[1] = -width + overlap + shift01[1]\n",
    "offset01 = skt.SimilarityTransform(translation=shift01[::-1])\n",
    "\n",
    "shift21, error21, phasediff21 = skf.register_translation(\n",
    "    src_image=img1_part2, target_image=img2_part, upsample_factor=100)\n",
    "shift21[1] = width - overlap + shift21[1]\n",
    "offset21 = skt.SimilarityTransform(translation=shift21[::-1])\n",
    "\n",
    "#shift12, error12, phasediff12 = skf.register_translation(\n",
    "#    src_image=img2_part, target_image=img1_part2, upsample_factor=100)\n",
    "#shift12[1] += overlap - width\n",
    "#offset12 = skt.SimilarityTransform(translation=shift12[::-1])\n",
    "\n",
    "fig, ax = plt.subplots(ncols=4)\n",
    "ax[0].imshow(img0_part)\n",
    "ax[1].imshow(img1_part1)\n",
    "ax[2].imshow(img1_part2)\n",
    "ax[3].imshow(img2_part)\n",
    "\n",
    "print(shift01, shift21)"
   ]
  },
  {
   "cell_type": "markdown",
   "metadata": {},
   "source": [
    "## Find image coordinates in master image"
   ]
  },
  {
   "cell_type": "code",
   "execution_count": 400,
   "metadata": {},
   "outputs": [
    {
     "name": "stdout",
     "output_type": "stream",
     "text": [
      "[1534 5163]\n"
     ]
    }
   ],
   "source": [
    "row, col = img1.shape[:2]\n",
    "\n",
    "corners = np.array([[0, 0], [0, row], [col, 0], [col, row]])\n",
    "\n",
    "corners01 = offset01(corners)\n",
    "#corners12 = offset12(corners)\n",
    "corners21 = offset21(corners)\n",
    "\n",
    "#all_corners = np.vstack((corners01, corners12, corners))\n",
    "all_corners = np.vstack((corners01, corners21, corners))\n",
    "\n",
    "corner_min = np.min(all_corners, axis=0)\n",
    "corner_max = np.max(all_corners, axis=0)\n",
    "output_shape = (corner_max - corner_min)\n",
    "output_shape = np.ceil(output_shape[::-1]).astype(int)\n",
    "\n",
    "print(output_shape)"
   ]
  },
  {
   "cell_type": "markdown",
   "metadata": {},
   "source": [
    "## Place images in master image"
   ]
  },
  {
   "cell_type": "code",
   "execution_count": 404,
   "metadata": {},
   "outputs": [],
   "source": [
    "offset1 = skt.SimilarityTransform(translation=-corner_min)\n",
    "\n",
    "img1_warped = skt.warp(img1, offset1.inverse, output_shape=output_shape)\n",
    "img1_mask = (img1_warped != -1)\n",
    "img1_warped[~img1_mask] = 0\n",
    "\n",
    "transform01 = (offset01 + offset1).inverse\n",
    "img0_warped = skt.warp(img0, transform01, output_shape=output_shape)\n",
    "img0_mask = (img0_warped != -1)\n",
    "img0_warped[~img0_mask] = 0\n",
    "\n",
    "transform21 = (offset21 + offset1).inverse\n",
    "img2_warped = skt.warp(img2, transform21, output_shape=output_shape)\n",
    "img2_mask = (img2_warped != -1)\n",
    "img2_warped[~img2_mask] = 0\n",
    "\n",
    "compare(img0_warped, img1_warped, img2_warped, figsize=(12, 10));"
   ]
  },
  {
   "cell_type": "code",
   "execution_count": 405,
   "metadata": {},
   "outputs": [],
   "source": [
    "merged = img0_warped + img1_warped + img2_warped\n",
    "\n",
    "overlap = img0_mask + img1_mask + img2_mask\n",
    "\n",
    "normalized = merged / overlap"
   ]
  },
  {
   "cell_type": "markdown",
   "metadata": {},
   "source": [
    "## Inspect result"
   ]
  },
  {
   "cell_type": "code",
   "execution_count": 406,
   "metadata": {},
   "outputs": [
    {
     "data": {
      "text/plain": [
       "<matplotlib.image.AxesImage at 0x7f816439ffd0>"
      ]
     },
     "execution_count": 406,
     "metadata": {},
     "output_type": "execute_result"
    }
   ],
   "source": [
    "plt.figure()\n",
    "plt.imshow(normalized, cmap='gray')"
   ]
  }
 ],
 "metadata": {
  "kernelspec": {
   "display_name": "Python 3",
   "language": "python",
   "name": "python3"
  },
  "language_info": {
   "codemirror_mode": {
    "name": "ipython",
    "version": 3
   },
   "file_extension": ".py",
   "mimetype": "text/x-python",
   "name": "python",
   "nbconvert_exporter": "python",
   "pygments_lexer": "ipython3",
   "version": "3.7.3"
  }
 },
 "nbformat": 4,
 "nbformat_minor": 4
}
