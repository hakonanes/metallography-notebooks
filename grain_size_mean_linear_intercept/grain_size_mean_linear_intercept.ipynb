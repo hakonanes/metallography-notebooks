{
 "cells": [
  {
   "cell_type": "markdown",
   "metadata": {},
   "source": [
    "# Grain Size from Mean Linear Intercept Distance\n",
    "\n",
    "Håkon Wiik Ånes (hakon.w.anes@ntnu.no)\n",
    "\n",
    "2019-04-29\n",
    "___\n",
    "\n",
    "Following Humphreys *et al.* (2017), for a single-phase material of uniform grain size, the grain size may be related to $\\bar{L}$, the mean linear intercept distance (MLI) across a grain as measured on a plane section . $\\bar{L}$ is determined by measuring the average number of boundary intercepts ($N_{\\mathrm{L}}$) with a line of unit length so that\n",
    "\n",
    "\\begin{equation}\n",
    "    \\bar{L} = \\frac{1}{N_{\\mathrm{L}}}.\n",
    "\\end{equation}"
   ]
  },
  {
   "cell_type": "code",
   "execution_count": 1,
   "metadata": {},
   "outputs": [
    {
     "name": "stdout",
     "output_type": "stream",
     "text": [
      "Warning: Cannot change to a different GUI toolkit: qt. Using qt5 instead.\n"
     ]
    }
   ],
   "source": [
    "# Comment to use default next line to use default plotting backend\n",
    "%matplotlib qt  \n",
    "import numpy as np\n",
    "import matplotlib.pyplot as plt\n",
    "plt.rcParams['figure.dpi'] = 200"
   ]
  },
  {
   "cell_type": "code",
   "execution_count": 2,
   "metadata": {},
   "outputs": [],
   "source": [
    "fname = 'plm_5x.tif'\n",
    "img = plt.imread(fname)\n",
    "\n",
    "# Plotting inline just for illustrative purposes, use different backend\n",
    "# (for example qt or tkAgg) when measuring number of intercepts.\n",
    "plt.imshow(img)\n",
    "plt.grid(color='r')"
   ]
  },
  {
   "cell_type": "code",
   "execution_count": 3,
   "metadata": {},
   "outputs": [
    {
     "name": "stdout",
     "output_type": "stream",
     "text": [
      "Grain size from mean linear intercept distance (MLI): 61.86 um\n"
     ]
    }
   ],
   "source": [
    "scale5x = 0.68  # [um/px]\n",
    "line_x = img.shape[1] * scale5x  # [um]\n",
    "line_y = img.shape[0] * scale5x  # [um]\n",
    "\n",
    "intercepts_x = np.array([29, 32, 26, 30, 26, 23, 31])\n",
    "mli_x = line_x/np.mean(intercepts_x)  # [um]\n",
    "\n",
    "print(\"Grain size from mean linear intercept distance (MLI): {:.2f} um\".format(mli_x))"
   ]
  },
  {
   "cell_type": "markdown",
   "metadata": {},
   "source": [
    "## References\n",
    "\n",
    "Humphreys, Frederick John, Rohrer, Gregory S., Rollett, Anthony D.: **Recrystallization and Related Annealing Phenomena**, 3rd edition, Elsevier, pp. 638, 2017."
   ]
  }
 ],
 "metadata": {
  "kernelspec": {
   "display_name": "Python 3",
   "language": "python",
   "name": "python3"
  },
  "language_info": {
   "codemirror_mode": {
    "name": "ipython",
    "version": 3
   },
   "file_extension": ".py",
   "mimetype": "text/x-python",
   "name": "python",
   "nbconvert_exporter": "python",
   "pygments_lexer": "ipython3",
   "version": "3.7.3"
  },
  "toc": {
   "base_numbering": 1,
   "nav_menu": {},
   "number_sections": true,
   "sideBar": true,
   "skip_h1_title": true,
   "title_cell": "Table of Contents",
   "title_sidebar": "Contents",
   "toc_cell": false,
   "toc_position": {},
   "toc_section_display": true,
   "toc_window_display": true
  }
 },
 "nbformat": 4,
 "nbformat_minor": 2
}
